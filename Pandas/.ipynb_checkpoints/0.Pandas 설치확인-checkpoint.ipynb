{
 "cells": [
  {
   "cell_type": "markdown",
   "id": "6e9137eb",
   "metadata": {},
   "source": [
    "## pandas 설치확인\n",
    "### Windows"
   ]
  },
  {
   "cell_type": "code",
   "execution_count": 1,
   "id": "ab987ab1",
   "metadata": {},
   "outputs": [
    {
     "name": "stdout",
     "output_type": "stream",
     "text": [
      "pandas                    1.4.2            py39hd77b12b_0  \n"
     ]
    }
   ],
   "source": [
    "!conda list | findstr pandas"
   ]
  },
  {
   "cell_type": "markdown",
   "id": "974a2512",
   "metadata": {},
   "source": [
    "### Unix"
   ]
  },
  {
   "cell_type": "code",
   "execution_count": null,
   "id": "030949ca",
   "metadata": {},
   "outputs": [],
   "source": [
    "!conda list | grep pandas"
   ]
  }
 ],
 "metadata": {
  "kernelspec": {
   "display_name": "Python 3 (ipykernel)",
   "language": "python",
   "name": "python3"
  },
  "language_info": {
   "codemirror_mode": {
    "name": "ipython",
    "version": 3
   },
   "file_extension": ".py",
   "mimetype": "text/x-python",
   "name": "python",
   "nbconvert_exporter": "python",
   "pygments_lexer": "ipython3",
   "version": "3.9.12"
  }
 },
 "nbformat": 4,
 "nbformat_minor": 5
}
